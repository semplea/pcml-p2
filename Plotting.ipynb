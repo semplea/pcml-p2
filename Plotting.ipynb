{
 "cells": [
  {
   "cell_type": "code",
   "execution_count": 1,
   "metadata": {
    "collapsed": false
   },
   "outputs": [],
   "source": [
    "import pandas as pd\n",
    "import seaborn as sns\n",
    "import matplotlib.pyplot as plt\n",
    "import numpy as np"
   ]
  },
  {
   "cell_type": "code",
   "execution_count": 2,
   "metadata": {
    "collapsed": true
   },
   "outputs": [],
   "source": [
    "sns.set_style(\"whitegrid\")"
   ]
  },
  {
   "cell_type": "code",
   "execution_count": 3,
   "metadata": {
    "collapsed": false
   },
   "outputs": [],
   "source": [
    "glove_basic = pd.read_csv('run_glove-basic_1482332707-summaries-dev,tag_accuracy_1.csv')\n",
    "glove_25 = pd.read_csv('run_glove25_1482325154-summaries-dev,tag_accuracy_1.csv')\n",
    "glove_50 = pd.read_csv('run_glove50_1482325282-summaries-dev,tag_accuracy_1.csv')\n",
    "glove_100 = pd.read_csv('run_glove100_1482325297-summaries-dev,tag_accuracy_1.csv')\n",
    "glove_200 = pd.read_csv('run_glove200_1482325545-summaries-dev,tag_accuracy_1.csv')\n",
    "fasttext = pd.read_csv('run_fasttext_1482330617-summaries-dev,tag_accuracy_1.csv')"
   ]
  },
  {
   "cell_type": "code",
   "execution_count": 5,
   "metadata": {
    "collapsed": false
   },
   "outputs": [],
   "source": [
    "fig, ax = plt.subplots(figsize=(12,9))\n",
    "glove_basic.plot(x='Step', y='Value', ax=ax, label='GLoVE basic')\n",
    "glove_25.plot(x='Step', y='Value', ax=ax, label='GLoVE 25')\n",
    "glove_50.plot(x='Step', y='Value', ax=ax, label='GLoVE 50')\n",
    "glove_100.plot(x='Step', y='Value', ax=ax, label='GLoVE 100')\n",
    "glove_200.plot(x='Step', y='Value', ax=ax, label='GLoVE 200')\n",
    "fasttext.plot(x='Step', y='Value', ax=ax, label='fastText')\n",
    "ax.legend(\n",
    "   loc='best',\n",
    "   fontsize=24)\n",
    "ax.tick_params(labelsize=18)\n",
    "plt.xlabel('Step', fontsize=24)\n",
    "plt.ylabel('Validation accuracy', fontsize=24)\n",
    "plt.show()"
   ]
  },
  {
   "cell_type": "code",
   "execution_count": null,
   "metadata": {
    "collapsed": true
   },
   "outputs": [],
   "source": []
  }
 ],
 "metadata": {
  "anaconda-cloud": {},
  "kernelspec": {
   "display_name": "Python [Root]",
   "language": "python",
   "name": "Python [Root]"
  },
  "language_info": {
   "codemirror_mode": {
    "name": "ipython",
    "version": 3
   },
   "file_extension": ".py",
   "mimetype": "text/x-python",
   "name": "python",
   "nbconvert_exporter": "python",
   "pygments_lexer": "ipython3",
   "version": "3.5.2"
  }
 },
 "nbformat": 4,
 "nbformat_minor": 0
}
